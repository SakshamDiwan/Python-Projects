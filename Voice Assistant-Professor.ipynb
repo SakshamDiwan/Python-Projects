{
 "cells": [
  {
   "cell_type": "code",
   "execution_count": 1,
   "id": "2fe817ec",
   "metadata": {},
   "outputs": [],
   "source": [
    "#Importing all the required libraries\n",
    "\n",
    "import speech_recognition as sr\n",
    "import os\n",
    "from gtts import gTTS\n",
    "import datetime\n",
    "import warnings\n",
    "import calendar\n",
    "import random\n",
    "import wikipedia\n",
    "import pyttsx3\n",
    "import webbrowser\n",
    "import smtplib\n",
    "import os, sys, subprocess\n",
    "warnings.filterwarnings(\"ignore\")\n",
    "        "
   ]
  },
  {
   "cell_type": "code",
   "execution_count": 2,
   "id": "1325a5a8",
   "metadata": {},
   "outputs": [],
   "source": [
    "#Recording audio and return it as a string\n",
    "\n",
    "def recordAudio():\n",
    "    obj=sr.Recognizer() \n",
    "    with sr.Microphone() as source: \n",
    "        print(\"Listening...\")\n",
    "        audio=obj.listen(source)\n",
    "        \n",
    "    #Using Google's speech recognition\n",
    "    \n",
    "    audio1=''\n",
    "    try:\n",
    "        audio1=obj.recognize_google(audio)\n",
    "        print('You said: '+audio1)\n",
    "    except sr.UnknownValueError:\n",
    "        print(\"Hey, I couldn't get what you said\")\n",
    "    except sr.RequestError as e:\n",
    "        print(\"Request results from Google Speech Recognition service error \"+e)\n",
    "    return audio1\n"
   ]
  },
  {
   "cell_type": "code",
   "execution_count": 3,
   "id": "fd70b37a",
   "metadata": {},
   "outputs": [],
   "source": [
    "#Checking for wake word\n",
    "\n",
    "def wakeWord(t):\n",
    "    wake_words=[\"hey professor\",\"professor\"] \n",
    "    t=t.lower()\n",
    "    for word in wake_words:\n",
    "        if word in t:\n",
    "            return True\n",
    "    return False"
   ]
  },
  {
   "cell_type": "code",
   "execution_count": 4,
   "id": "b1ba7f18",
   "metadata": {},
   "outputs": [],
   "source": [
    "#Creating virtual assistant response\n",
    "\n",
    "def VAresponse(abc):\n",
    "\n",
    "    engine=pyttsx3.init()\n",
    "    engine.say(abc)\n",
    "    engine.runAndWait()\n",
    "    if engine._inLoop:\n",
    "        engine.endLoop()"
   ]
  },
  {
   "cell_type": "code",
   "execution_count": 5,
   "id": "9ece9544",
   "metadata": {},
   "outputs": [],
   "source": [
    "#Getting the current date\n",
    "\n",
    "def getDate():\n",
    "    \n",
    "    now=datetime.datetime.now()\n",
    "    my_date=datetime.datetime.today()\n",
    "    weekday=calendar.day_name[my_date.weekday()]\n",
    "    monthNum=now.month\n",
    "    dayNum=now.day\n",
    "    month_names=[\"January\",\"February\",\"March\",\"April\",\"May\",\"June\",\"July\",\"August\",\"September\",\"October\",\"November\",\"December\"]\n",
    "    ordinal_numbers=[\"1st\",\"2nd\",\"3rd\",\"4th\",\"5th\",\"6th\",\"7th\",\"8th\",\"9th\",\"10th\",\n",
    "                     \"11th\",\"12th\",\"13th\",\"14th\",\"15th\",\"16th\",\"17th\",\"18th\",\"19th\",\"20th\",\n",
    "                     \"21st\",\"22nd\",\"23rd\",\"24th\",\"25th\",\"26th\",\"27th\",\"28th\",\"29th\",\"30th\",\"31st\"]\n",
    "    \n",
    "    return \"Today is \"+weekday+\" \"+month_names[monthNum-1]+\" the \"+ordinal_numbers[dayNum-1]+\".\"\n"
   ]
  },
  {
   "cell_type": "code",
   "execution_count": 6,
   "id": "adea1c5a",
   "metadata": {},
   "outputs": [],
   "source": [
    "#Sending emails\n",
    "\n",
    "def sendEmail(to,matter):\n",
    "    server = smtplib.SMTP('smtp.gmail.com', 587)\n",
    "    server.ehlo()\n",
    "    server.starttls()\n",
    "    server.login('abcd@gmail.com', 'xyz')\n",
    "    server.sendmail('abcd@gmail.com',to,matter)\n",
    "    server.close()"
   ]
  },
  {
   "cell_type": "code",
   "execution_count": 7,
   "id": "625a576c",
   "metadata": {},
   "outputs": [
    {
     "name": "stdout",
     "output_type": "stream",
     "text": [
      "Listening...\n",
      "You said: professor what is the time\n",
      " It is 11:59 p.m.\n",
      "Listening...\n"
     ]
    },
    {
     "ename": "KeyboardInterrupt",
     "evalue": "",
     "output_type": "error",
     "traceback": [
      "\u001b[0;31m---------------------------------------------------------------------------\u001b[0m",
      "\u001b[0;31mKeyboardInterrupt\u001b[0m                         Traceback (most recent call last)",
      "\u001b[0;32m<ipython-input-7-55a2275270ab>\u001b[0m in \u001b[0;36m<module>\u001b[0;34m\u001b[0m\n\u001b[1;32m      3\u001b[0m     \u001b[0;31m#Recording audio\u001b[0m\u001b[0;34m\u001b[0m\u001b[0;34m\u001b[0m\u001b[0;34m\u001b[0m\u001b[0m\n\u001b[1;32m      4\u001b[0m \u001b[0;34m\u001b[0m\u001b[0m\n\u001b[0;32m----> 5\u001b[0;31m     \u001b[0mtext\u001b[0m\u001b[0;34m=\u001b[0m\u001b[0mrecordAudio\u001b[0m\u001b[0;34m(\u001b[0m\u001b[0;34m)\u001b[0m\u001b[0;34m\u001b[0m\u001b[0;34m\u001b[0m\u001b[0m\n\u001b[0m\u001b[1;32m      6\u001b[0m     \u001b[0mresp\u001b[0m\u001b[0;34m=\u001b[0m\u001b[0;34m\"\"\u001b[0m\u001b[0;34m\u001b[0m\u001b[0;34m\u001b[0m\u001b[0m\n\u001b[1;32m      7\u001b[0m \u001b[0;34m\u001b[0m\u001b[0m\n",
      "\u001b[0;32m<ipython-input-2-b11a5ea4de86>\u001b[0m in \u001b[0;36mrecordAudio\u001b[0;34m()\u001b[0m\n\u001b[1;32m      5\u001b[0m     \u001b[0;32mwith\u001b[0m \u001b[0msr\u001b[0m\u001b[0;34m.\u001b[0m\u001b[0mMicrophone\u001b[0m\u001b[0;34m(\u001b[0m\u001b[0;34m)\u001b[0m \u001b[0;32mas\u001b[0m \u001b[0msource\u001b[0m\u001b[0;34m:\u001b[0m\u001b[0;34m\u001b[0m\u001b[0;34m\u001b[0m\u001b[0m\n\u001b[1;32m      6\u001b[0m         \u001b[0mprint\u001b[0m\u001b[0;34m(\u001b[0m\u001b[0;34m\"Listening...\"\u001b[0m\u001b[0;34m)\u001b[0m\u001b[0;34m\u001b[0m\u001b[0;34m\u001b[0m\u001b[0m\n\u001b[0;32m----> 7\u001b[0;31m         \u001b[0maudio\u001b[0m\u001b[0;34m=\u001b[0m\u001b[0mobj\u001b[0m\u001b[0;34m.\u001b[0m\u001b[0mlisten\u001b[0m\u001b[0;34m(\u001b[0m\u001b[0msource\u001b[0m\u001b[0;34m)\u001b[0m\u001b[0;34m\u001b[0m\u001b[0;34m\u001b[0m\u001b[0m\n\u001b[0m\u001b[1;32m      8\u001b[0m \u001b[0;34m\u001b[0m\u001b[0m\n\u001b[1;32m      9\u001b[0m     \u001b[0;31m#Using Google's speech recognition\u001b[0m\u001b[0;34m\u001b[0m\u001b[0;34m\u001b[0m\u001b[0;34m\u001b[0m\u001b[0m\n",
      "\u001b[0;32m~/opt/anaconda3/lib/python3.8/site-packages/speech_recognition/__init__.py\u001b[0m in \u001b[0;36mlisten\u001b[0;34m(self, source, timeout, phrase_time_limit)\u001b[0m\n\u001b[1;32m    576\u001b[0m                     \u001b[0;32mbreak\u001b[0m\u001b[0;34m\u001b[0m\u001b[0;34m\u001b[0m\u001b[0m\n\u001b[1;32m    577\u001b[0m \u001b[0;34m\u001b[0m\u001b[0m\n\u001b[0;32m--> 578\u001b[0;31m                 \u001b[0mbuffer\u001b[0m \u001b[0;34m=\u001b[0m \u001b[0msource\u001b[0m\u001b[0;34m.\u001b[0m\u001b[0mstream\u001b[0m\u001b[0;34m.\u001b[0m\u001b[0mread\u001b[0m\u001b[0;34m(\u001b[0m\u001b[0msource\u001b[0m\u001b[0;34m.\u001b[0m\u001b[0mCHUNK\u001b[0m\u001b[0;34m)\u001b[0m\u001b[0;34m\u001b[0m\u001b[0;34m\u001b[0m\u001b[0m\n\u001b[0m\u001b[1;32m    579\u001b[0m                 \u001b[0;32mif\u001b[0m \u001b[0mlen\u001b[0m\u001b[0;34m(\u001b[0m\u001b[0mbuffer\u001b[0m\u001b[0;34m)\u001b[0m \u001b[0;34m==\u001b[0m \u001b[0;36m0\u001b[0m\u001b[0;34m:\u001b[0m \u001b[0;32mbreak\u001b[0m  \u001b[0;31m# reached end of the stream\u001b[0m\u001b[0;34m\u001b[0m\u001b[0;34m\u001b[0m\u001b[0m\n\u001b[1;32m    580\u001b[0m                 \u001b[0mframes\u001b[0m\u001b[0;34m.\u001b[0m\u001b[0mappend\u001b[0m\u001b[0;34m(\u001b[0m\u001b[0mbuffer\u001b[0m\u001b[0;34m)\u001b[0m\u001b[0;34m\u001b[0m\u001b[0;34m\u001b[0m\u001b[0m\n",
      "\u001b[0;32m~/opt/anaconda3/lib/python3.8/site-packages/speech_recognition/__init__.py\u001b[0m in \u001b[0;36mread\u001b[0;34m(self, size)\u001b[0m\n\u001b[1;32m    159\u001b[0m \u001b[0;34m\u001b[0m\u001b[0m\n\u001b[1;32m    160\u001b[0m         \u001b[0;32mdef\u001b[0m \u001b[0mread\u001b[0m\u001b[0;34m(\u001b[0m\u001b[0mself\u001b[0m\u001b[0;34m,\u001b[0m \u001b[0msize\u001b[0m\u001b[0;34m)\u001b[0m\u001b[0;34m:\u001b[0m\u001b[0;34m\u001b[0m\u001b[0;34m\u001b[0m\u001b[0m\n\u001b[0;32m--> 161\u001b[0;31m             \u001b[0;32mreturn\u001b[0m \u001b[0mself\u001b[0m\u001b[0;34m.\u001b[0m\u001b[0mpyaudio_stream\u001b[0m\u001b[0;34m.\u001b[0m\u001b[0mread\u001b[0m\u001b[0;34m(\u001b[0m\u001b[0msize\u001b[0m\u001b[0;34m,\u001b[0m \u001b[0mexception_on_overflow\u001b[0m\u001b[0;34m=\u001b[0m\u001b[0;32mFalse\u001b[0m\u001b[0;34m)\u001b[0m\u001b[0;34m\u001b[0m\u001b[0;34m\u001b[0m\u001b[0m\n\u001b[0m\u001b[1;32m    162\u001b[0m \u001b[0;34m\u001b[0m\u001b[0m\n\u001b[1;32m    163\u001b[0m         \u001b[0;32mdef\u001b[0m \u001b[0mclose\u001b[0m\u001b[0;34m(\u001b[0m\u001b[0mself\u001b[0m\u001b[0;34m)\u001b[0m\u001b[0;34m:\u001b[0m\u001b[0;34m\u001b[0m\u001b[0;34m\u001b[0m\u001b[0m\n",
      "\u001b[0;32m~/opt/anaconda3/lib/python3.8/site-packages/pyaudio.py\u001b[0m in \u001b[0;36mread\u001b[0;34m(self, num_frames, exception_on_overflow)\u001b[0m\n\u001b[1;32m    606\u001b[0m                           paCanNotReadFromAnOutputOnlyStream)\n\u001b[1;32m    607\u001b[0m \u001b[0;34m\u001b[0m\u001b[0m\n\u001b[0;32m--> 608\u001b[0;31m         \u001b[0;32mreturn\u001b[0m \u001b[0mpa\u001b[0m\u001b[0;34m.\u001b[0m\u001b[0mread_stream\u001b[0m\u001b[0;34m(\u001b[0m\u001b[0mself\u001b[0m\u001b[0;34m.\u001b[0m\u001b[0m_stream\u001b[0m\u001b[0;34m,\u001b[0m \u001b[0mnum_frames\u001b[0m\u001b[0;34m,\u001b[0m \u001b[0mexception_on_overflow\u001b[0m\u001b[0;34m)\u001b[0m\u001b[0;34m\u001b[0m\u001b[0;34m\u001b[0m\u001b[0m\n\u001b[0m\u001b[1;32m    609\u001b[0m \u001b[0;34m\u001b[0m\u001b[0m\n\u001b[1;32m    610\u001b[0m     \u001b[0;32mdef\u001b[0m \u001b[0mget_read_available\u001b[0m\u001b[0;34m(\u001b[0m\u001b[0mself\u001b[0m\u001b[0;34m)\u001b[0m\u001b[0;34m:\u001b[0m\u001b[0;34m\u001b[0m\u001b[0;34m\u001b[0m\u001b[0m\n",
      "\u001b[0;31mKeyboardInterrupt\u001b[0m: "
     ]
    }
   ],
   "source": [
    "while True:\n",
    "    \n",
    "    #Recording audio\n",
    "    \n",
    "    text=recordAudio()\n",
    "    resp=\"\"\n",
    "    \n",
    "    #Checking for the wake words\n",
    "    \n",
    "    if(wakeWord(text)==True):\n",
    "\n",
    "        if 'wikipedia' in text.lower():\n",
    "            VAresponse('Searching Wikipedia...')\n",
    "            text=text.replace(\"wikipedia\", \"\")\n",
    "            results=wikipedia.summary(text, sentences=2)\n",
    "            VAresponse(\"According to Wikipedia\")\n",
    "            print(results)\n",
    "            VAresponse(results)\n",
    "\n",
    "        elif 'open youtube' in text.lower():\n",
    "            webbrowser.open(\"https://www.youtube.com\")\n",
    "            VAresponse(\"youtube is open now\")\n",
    "            \n",
    "\n",
    "        elif 'open google' in text.lower():\n",
    "            webbrowser.open(\"https://www.google.com\")\n",
    "            VAresponse(\"Google chrome is open now\")\n",
    "            \n",
    "\n",
    "        elif 'open gmail' in text.lower():\n",
    "            webbrowser.open(\"gmail.com\")\n",
    "            VAresponse(\"Google Mail open now\")\n",
    "            \n",
    "        \n",
    "        \n",
    "        \n",
    "        elif(\"date\" in text.lower()):\n",
    "            get_date=getDate()\n",
    "            resp=resp+\" \"+get_date\n",
    "            VAresponse(resp)\n",
    "            \n",
    "            \n",
    "        \n",
    "        elif(\"time\" in text.lower()):\n",
    "            now=datetime.datetime.now()\n",
    "            meridiem=\"\"\n",
    "            if(now.hour>=12):\n",
    "                meridiem=\"p.m\"\n",
    "                hour=now.hour-12\n",
    "            else:\n",
    "                meridiem=\"a.m\"\n",
    "                hour=now.hour\n",
    "                \n",
    "            #Converting minute into string\n",
    "            \n",
    "            if(now.minute<10):\n",
    "                minute=\"0\"+str(now.minute)\n",
    "            else:\n",
    "                minute=str(now.minute)\n",
    "                \n",
    "            resp=resp+\" It is \"+str(hour)+\":\"+minute+\" \"+meridiem+\".\"\n",
    "            print(resp)\n",
    "            VAresponse(resp)\n",
    "        \n",
    "        \n",
    "        elif 'send an email' in text.lower():\n",
    "            try:\n",
    "                VAresponse(\"What should I say?\")\n",
    "                cont= recordAudio()\n",
    "                to = \"bcde@gmail.com\"    \n",
    "                sendEmail(to, cont)\n",
    "                VAresponse(\"Email has been sent!\")\n",
    "            except Exception as x:\n",
    "                print(x)\n",
    "                VAresponse(\"Sorry. I am not able to send this email.\")  \n",
    "                "
   ]
  },
  {
   "cell_type": "code",
   "execution_count": null,
   "id": "fe61dfb9",
   "metadata": {},
   "outputs": [],
   "source": [
    "#The error above has been thrown because I have interrupted the kernel purposely to make sharing of code possible. "
   ]
  }
 ],
 "metadata": {
  "kernelspec": {
   "display_name": "Python 3",
   "language": "python",
   "name": "python3"
  },
  "language_info": {
   "codemirror_mode": {
    "name": "ipython",
    "version": 3
   },
   "file_extension": ".py",
   "mimetype": "text/x-python",
   "name": "python",
   "nbconvert_exporter": "python",
   "pygments_lexer": "ipython3",
   "version": "3.8.8"
  }
 },
 "nbformat": 4,
 "nbformat_minor": 5
}
